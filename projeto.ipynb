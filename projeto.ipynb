{
 "metadata": {
  "language_info": {
   "codemirror_mode": {
    "name": "ipython",
    "version": 3
   },
   "file_extension": ".py",
   "mimetype": "text/x-python",
   "name": "python",
   "nbconvert_exporter": "python",
   "pygments_lexer": "ipython3",
   "version": "3.8.5"
  },
  "orig_nbformat": 2,
  "kernelspec": {
   "name": "python385jvsc74a57bd031f2aee4e71d21fbe5cf8b01ff0e069b9275f58929596ceb00d14d90e3e16cd6",
   "display_name": "Python 3.8.5 64-bit"
  },
  "metadata": {
   "interpreter": {
    "hash": "31f2aee4e71d21fbe5cf8b01ff0e069b9275f58929596ceb00d14d90e3e16cd6"
   }
  }
 },
 "nbformat": 4,
 "nbformat_minor": 2,
 "cells": [
  {
   "cell_type": "code",
   "execution_count": 1,
   "metadata": {},
   "outputs": [],
   "source": [
    "from bs4 import BeautifulSoup             \n",
    "import os\n",
    "import re\n",
    "from nltk.corpus import stopwords\n",
    "import pandas as pd\n",
    "import matplotlib.pyplot as plt\n",
    "\n",
    "\n",
    "import gensim\n",
    "from gensim import models\n",
    "from gensim.utils import simple_preprocess\n",
    "from gensim.parsing.preprocessing import STOPWORDS\n",
    "from nltk.stem import WordNetLemmatizer, SnowballStemmer\n",
    "from nltk.stem.porter import *\n",
    "import numpy as np\n",
    "np.random.seed(2018)\n",
    "\n",
    "from gensim.corpora import Dictionary"
   ]
  },
  {
   "cell_type": "code",
   "execution_count": 2,
   "metadata": {},
   "outputs": [],
   "source": [
    " def cm_to_inch(value):\n",
    "    return value/2.54"
   ]
  },
  {
   "cell_type": "code",
   "execution_count": 3,
   "metadata": {},
   "outputs": [],
   "source": [
    "stemmer = SnowballStemmer('english')\n",
    "stops = set(stopwords.words(\"english\"))\n",
    "\n",
    "def lemmatize_stemming(text):\n",
    "    return stemmer.stem(WordNetLemmatizer().lemmatize(text, pos='v'))\n",
    "\n",
    "def lyric_to_words( raw_lyric ):\n",
    "    lyric_text = BeautifulSoup(raw_lyric, features=\"lxml\").get_text() \n",
    "    letters_only = re.sub(\"[^a-zA-Z]\", \" \", lyric_text) \n",
    "    words = letters_only.lower().split()                                               \n",
    "    meaningful_words = [w for w in words if not w in stops]\n",
    "    lemmatize_stemming_words = [lemmatize_stemming(w) for w in words] \n",
    "\n",
    "    return lemmatize_stemming_words\n",
    "    # return( \" \".join( meaningful_words ))"
   ]
  },
  {
   "cell_type": "code",
   "execution_count": 4,
   "metadata": {},
   "outputs": [
    {
     "output_type": "execute_result",
     "data": {
      "text/plain": [
       "   Unnamed: 0           artist_name            track_name  release_date genre  \\\n",
       "0           0                mukesh  mohabbat bhi jhoothi          1950   pop   \n",
       "1           4         frankie laine             i believe          1950   pop   \n",
       "2           6           johnnie ray                   cry          1950   pop   \n",
       "3          10           pérez prado              patricia          1950   pop   \n",
       "4          12  giorgos papadopoulos    apopse eida oneiro          1950   pop   \n",
       "\n",
       "                                              lyrics  len  \n",
       "0  hold time feel break feel untrue convince spea...   95  \n",
       "1  believe drop rain fall grow believe darkest ni...   51  \n",
       "2  sweetheart send letter goodbye secret feel bet...   24  \n",
       "3  kiss lips want stroll charm mambo chacha merin...   54  \n",
       "4  till darling till matter know till dream live ...   48  "
      ],
      "text/html": "<div>\n<style scoped>\n    .dataframe tbody tr th:only-of-type {\n        vertical-align: middle;\n    }\n\n    .dataframe tbody tr th {\n        vertical-align: top;\n    }\n\n    .dataframe thead th {\n        text-align: right;\n    }\n</style>\n<table border=\"1\" class=\"dataframe\">\n  <thead>\n    <tr style=\"text-align: right;\">\n      <th></th>\n      <th>Unnamed: 0</th>\n      <th>artist_name</th>\n      <th>track_name</th>\n      <th>release_date</th>\n      <th>genre</th>\n      <th>lyrics</th>\n      <th>len</th>\n    </tr>\n  </thead>\n  <tbody>\n    <tr>\n      <th>0</th>\n      <td>0</td>\n      <td>mukesh</td>\n      <td>mohabbat bhi jhoothi</td>\n      <td>1950</td>\n      <td>pop</td>\n      <td>hold time feel break feel untrue convince spea...</td>\n      <td>95</td>\n    </tr>\n    <tr>\n      <th>1</th>\n      <td>4</td>\n      <td>frankie laine</td>\n      <td>i believe</td>\n      <td>1950</td>\n      <td>pop</td>\n      <td>believe drop rain fall grow believe darkest ni...</td>\n      <td>51</td>\n    </tr>\n    <tr>\n      <th>2</th>\n      <td>6</td>\n      <td>johnnie ray</td>\n      <td>cry</td>\n      <td>1950</td>\n      <td>pop</td>\n      <td>sweetheart send letter goodbye secret feel bet...</td>\n      <td>24</td>\n    </tr>\n    <tr>\n      <th>3</th>\n      <td>10</td>\n      <td>pérez prado</td>\n      <td>patricia</td>\n      <td>1950</td>\n      <td>pop</td>\n      <td>kiss lips want stroll charm mambo chacha merin...</td>\n      <td>54</td>\n    </tr>\n    <tr>\n      <th>4</th>\n      <td>12</td>\n      <td>giorgos papadopoulos</td>\n      <td>apopse eida oneiro</td>\n      <td>1950</td>\n      <td>pop</td>\n      <td>till darling till matter know till dream live ...</td>\n      <td>48</td>\n    </tr>\n  </tbody>\n</table>\n</div>"
     },
     "metadata": {},
     "execution_count": 4
    }
   ],
   "source": [
    "data_set = pd.read_csv(\"tcc_ceds_music.csv\", delimiter=\",\")\n",
    "data_set = data_set.drop([\"dating\", \"violence\", \"world/life\", \"night/time\", \"family/gospel\", \"shake the audience\", \"dating\", \"violence\", \"world/life\", \"sadness\", \"feelings\", \"danceability\", \"loudness\",\t\"acousticness\",\t\"instrumentalness\",\t\"valence\",\t\"energy\", \"topic\", \"romantic\",\t\"communication\",\t\"obscene\",\t\"music\",\t\"movement/places\",\t\"light/visual perceptions\",\t\"family/spiritual\",\t\"like/girls\", \"age\"], axis=1)\n",
    "data_set.head()"
   ]
  },
  {
   "cell_type": "code",
   "execution_count": null,
   "metadata": {},
   "outputs": [],
   "source": [
    "%%time\n",
    "processed_lyrics = data_set['lyrics'].map(lyric_to_words)"
   ]
  },
  {
   "cell_type": "code",
   "execution_count": null,
   "metadata": {},
   "outputs": [],
   "source": [
    "data_set['processed_lyrics'] = processed_lyrics"
   ]
  },
  {
   "cell_type": "code",
   "execution_count": null,
   "metadata": {},
   "outputs": [],
   "source": [
    "%%time\n",
    "dictionary = Dictionary(processed_lyrics)"
   ]
  },
  {
   "cell_type": "code",
   "execution_count": null,
   "metadata": {},
   "outputs": [],
   "source": [
    "%%time\n",
    "dictionary.filter_extremes(no_below=15, no_above=0.25, keep_n=100000)"
   ]
  },
  {
   "cell_type": "code",
   "execution_count": null,
   "metadata": {},
   "outputs": [],
   "source": [
    "%%time\n",
    "corpus = [dictionary.doc2bow(lyric) for lyric in processed_lyrics]"
   ]
  },
  {
   "cell_type": "code",
   "execution_count": null,
   "metadata": {},
   "outputs": [],
   "source": [
    "%%time\n",
    "lda_model = gensim.models.LdaMulticore(corpus, num_topics=id2word=dictionary, passes=100)"
   ]
  },
  {
   "cell_type": "code",
   "execution_count": null,
   "metadata": {},
   "outputs": [],
   "source": [
    "topics = [sorted(lda_model[c], key=lambda tup: -1*tup[1])[0][0] for c in corpus]\n",
    "data_set[\"topics\"] = topics"
   ]
  },
  {
   "cell_type": "code",
   "execution_count": null,
   "metadata": {},
   "outputs": [],
   "source": [
    "data_set.to_csv(\"tcc_ceds_music_topics.csv\", index=0)"
   ]
  },
  {
   "cell_type": "code",
   "execution_count": null,
   "metadata": {},
   "outputs": [],
   "source": [
    "# for idx, topic in lda_model.print_topics(-1):\n",
    "#     print('Topic: {} \\nWords: {}'.format(idx, topic))"
   ]
  },
  {
   "cell_type": "code",
   "execution_count": null,
   "metadata": {},
   "outputs": [],
   "source": [
    "import pyLDAvis.gensim_models\n",
    "\n",
    "lda_display = pyLDAvis.gensim_models.prepare(\n",
    "    lda_model,\n",
    "    corpus,\n",
    "    dictionary,\n",
    "    sort_topics=False,\n",
    ")\n"
   ]
  },
  {
   "cell_type": "code",
   "execution_count": null,
   "metadata": {},
   "outputs": [],
   "source": [
    "pyLDAvis.save_html(lda_display, 'lda.html')\n"
   ]
  },
  {
   "cell_type": "code",
   "execution_count": null,
   "metadata": {},
   "outputs": [],
   "source": [
    "pyLDAvis.display(lda_display)"
   ]
  },
  {
   "cell_type": "code",
   "execution_count": null,
   "metadata": {},
   "outputs": [],
   "source": [
    "# Compute Coherence Score\n",
    "from gensim.models.coherencemodel import CoherenceModel\n",
    "coherence_model_lda = CoherenceModel(model=lda_model, texts=processed_lyrics, dictionary=dictionary, coherence='c_v')\n",
    "coherence_lda = coherence_model_lda.get_coherence()\n",
    "print('\\\\nCoherence Score: ', coherence_lda)"
   ]
  },
  {
   "cell_type": "code",
   "execution_count": null,
   "metadata": {},
   "outputs": [],
   "source": [
    "\n",
    "def compute_coherence_values(limit, start=2, step=3):\n",
    "    \"\"\"\n",
    "    Compute c_v coherence for various number of topics\n",
    "\n",
    "    Parameters:\n",
    "    ----------\n",
    "    dictionary : Gensim dictionary\n",
    "    corpus : Gensim corpus\n",
    "    texts : List of input texts\n",
    "    limit : Max num of topics\n",
    "\n",
    "    Returns:\n",
    "    -------\n",
    "    model_list : List of LDA topic models\n",
    "    coherence_values : Coherence values corresponding to the LDA model with respective number of topics\n",
    "    \"\"\"\n",
    "    coherence_values = []\n",
    "    model_list = []\n",
    "    for num_topics in range(start, limit, step):\n",
    "        model = gensim.models.LdaMulticore(corpus, num_topics=num_topics, id2word=dictionary, passes=100)\n",
    "        model_list.append(model)\n",
    "        coherencemodel = CoherenceModel(model=model, texts=processed_lyrics, dictionary=dictionary, coherence='c_v')\n",
    "        coherence_values.append(coherencemodel.get_coherence())\n",
    "        print(num_topics)\n",
    "\n",
    "    return model_list, coherence_values\n",
    "\n",
    "limit=15\n",
    "start=12\n",
    "step=1\n",
    "model_list, coherence_values = compute_coherence_values(start=start, limit=limit, step=step)\n",
    "\n"
   ]
  },
  {
   "cell_type": "code",
   "execution_count": null,
   "metadata": {},
   "outputs": [],
   "source": [
    "# Show graph\n",
    "limit=15\n",
    "start=12\n",
    "step=1\n",
    "x = range(start, limit, step)\n",
    "plt.plot(x, coherence_values, label=\"coherence values\")\n",
    "plt.xlabel(\"Num Topics\")\n",
    "plt.legend()\n",
    "plt.legend()\n",
    "plt.grid()\n",
    "plt.show()"
   ]
  },
  {
   "cell_type": "code",
   "execution_count": null,
   "metadata": {},
   "outputs": [],
   "source": [
    "decadas = [item for item in range(1950, 2020, 10)]\n",
    "topic_names = [\"0\", \"1\", \"2\", \"3\", \"4\", \"5\", \"6\", \"7\", \"8\", \"9\", \"10\", \"11\", \"12\"]"
   ]
  },
  {
   "cell_type": "code",
   "execution_count": null,
   "metadata": {},
   "outputs": [],
   "source": [
    "for i in range(10):\n",
    "    plt.figure(figsize=(cm_to_inch(25), cm_to_inch(15)))\n",
    "    data_set_topic = data_set[(data_set[\"topics\"] == i)]\n",
    "    data_set_topic = data_set_topic.loc[:,[\"topics\",\"release_date\"]]\n",
    "    data_set[\"release_date\"].plot.hist(grid=True, bins=68, alpha=0.5, label='Todos os Tópicos')\n",
    "    data_set_topic[\"release_date\"].plot.hist(grid=True, bins=68, alpha=0.9, label=f'Tópico {topic_names[i]}')\n",
    "    plt.xlabel('Ano da publicacão')\n",
    "    plt.ylabel('Músicas publicadas')\n",
    "    plt.title(f'Tópico {topic_names[i]}')\n",
    "    plt.legend()\n",
    "    plt.savefig(f'plots/topico{topic_names[i]}.png')\n",
    "    plt.show()\n",
    "    \n",
    "\n",
    "\n"
   ]
  },
  {
   "cell_type": "code",
   "execution_count": null,
   "metadata": {},
   "outputs": [],
   "source": [
    "for i in range(len(decadas)):\n",
    "    plt.figure(figsize=(cm_to_inch(25), cm_to_inch(15)))\n",
    "    for j in range(len(topic_names)):\n",
    "\n",
    "        data_set_topic = data_set[(data_set[\"topics\"] == j)]\n",
    "        data_set_topic = data_set_topic.loc[:,[\"topics\",\"release_date\"]]\n",
    "        data_set_topic[\"release_date\"].plot.hist(grid=True, bins=68, alpha=0.5, label=f'Tópico {topic_names[j]}')\n",
    "\n",
    "    plt.xlabel('Ano da publicacão')\n",
    "    plt.ylabel('Músicas publicadas')\n",
    "    plt.title(f'Anos {decadas[i]}')\n",
    "    \n",
    "    # maxfreq = n.max()\n",
    "    # # Set a clean upper y-axis limit.\n",
    "    # plt.ylim(400)\n",
    "    plt.legend()\n",
    "    plt.axis([decadas[i], decadas[i]+10, 0, 400])\n",
    "    plt.savefig(f'plots/anos{decadas[i]}.png')\n",
    "    plt.show()"
   ]
  },
  {
   "cell_type": "code",
   "execution_count": null,
   "metadata": {},
   "outputs": [],
   "source": [
    "data_set[(data_set[\"genre\"] == 'pop')].head()"
   ]
  },
  {
   "cell_type": "code",
   "execution_count": null,
   "metadata": {},
   "outputs": [],
   "source": [
    "data_set['genre'].unique()"
   ]
  },
  {
   "cell_type": "code",
   "execution_count": null,
   "metadata": {},
   "outputs": [],
   "source": [
    "data_set['genre'].size"
   ]
  },
  {
   "cell_type": "code",
   "execution_count": null,
   "metadata": {},
   "outputs": [],
   "source": [
    "data_set.iloc[5000]"
   ]
  },
  {
   "cell_type": "code",
   "execution_count": null,
   "metadata": {},
   "outputs": [],
   "source": []
  },
  {
   "cell_type": "code",
   "execution_count": null,
   "metadata": {},
   "outputs": [],
   "source": []
  }
 ]
}